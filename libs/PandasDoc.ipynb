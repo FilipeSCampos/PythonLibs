{
 "cells": [
  {
   "cell_type": "markdown",
   "id": "dbe1b7cf",
   "metadata": {},
   "source": [
    "## Leitura de Dados"
   ]
  },
  {
   "cell_type": "markdown",
   "id": "50e8aa77",
   "metadata": {},
   "source": [
    "### O Pandas oferece uma variedade de funções para ler diferentes tipos de dados, como CSV, Excel, JSON, SQL, entre outros. Essas funções geralmente têm parâmetros que permitem personalizar a leitura dos dados, como separadores de colunas, delimitadores de texto, codificação de caracteres, entre outros. Alguns exemplos de parâmetros comuns são:\n",
    "\n",
    "#### sep: especifica o separador de colunas no arquivo (padrão é , para arquivos CSV);\n",
    "#### header: especifica a linha que contém os nomes das colunas (padrão é 0);\n",
    "#### index_col: especifica a coluna que deve ser usada como índice (padrão é None);\n",
    "#### na_values: especifica os valores que devem ser tratados como valores ausentes (padrão é None)."
   ]
  },
  {
   "cell_type": "code",
   "execution_count": null,
   "id": "2270f116",
   "metadata": {},
   "outputs": [],
   "source": [
    "import pandas as pd\n",
    "\n",
    "# Lendo um arquivo CSV\n",
    "df_csv = pd.read_csv('dados.csv')\n",
    "\n",
    "# Lendo um arquivo Excel\n",
    "df_excel = pd.read_excel('dados.xlsx')\n"
   ]
  },
  {
   "cell_type": "markdown",
   "id": "eab97d5d",
   "metadata": {},
   "source": [
    "## Visualização e manipulação de dados\n"
   ]
  },
  {
   "cell_type": "markdown",
   "id": "af0326a2",
   "metadata": {},
   "source": [
    "### O Pandas oferece uma ampla gama de funções para visualizar e manipular dados, incluindo:\n",
    "\n",
    "#### head(): exibe as primeiras linhas do DataFrame (padrão é 5);\n",
    "#### tail(): exibe as últimas linhas do DataFrame (padrão é 5);\n",
    "#### info(): exibe informações sobre as colunas do DataFrame, incluindo o tipo de dados e o número de valores não nulos;\n",
    "#### describe(): exibe estatísticas descritivas para as colunas numéricas do DataFrame;\n",
    "#### sort_values(): classifica o DataFrame com base em uma ou mais colunas;\n",
    "#### groupby(): agrupa o DataFrame com base em uma ou mais colunas e aplica uma função de agregação aos grupos resultantes.\n"
   ]
  },
  {
   "cell_type": "code",
   "execution_count": null,
   "id": "d2bf6f5c",
   "metadata": {},
   "outputs": [],
   "source": [
    "# Exibindo as primeiras linhas do DataFrame\n",
    "print(df.head())\n",
    "\n",
    "# Exibindo as últimas linhas do DataFrame\n",
    "print(df.tail())\n",
    "\n",
    "# Exibindo informações sobre as colunas do DataFrame\n",
    "print(df.info())\n",
    "\n",
    "# Exibindo estatísticas descritivas para as colunas numéricas do DataFrame\n",
    "print(df.describe())\n",
    "\n",
    "# Classificando o DataFrame com base em uma ou mais colunas\n",
    "df_sorted = df.sort_values(by=['coluna1', 'coluna2'])\n",
    "\n",
    "# Agrupando o DataFrame com base em uma ou mais colunas\n",
    "df_grouped = df.groupby(['coluna1', 'coluna2']).sum()\n"
   ]
  },
  {
   "cell_type": "markdown",
   "id": "c50e6d95",
   "metadata": {},
   "source": [
    "### Manipulação de dados\n"
   ]
  },
  {
   "cell_type": "markdown",
   "id": "5f7b5b31",
   "metadata": {},
   "source": [
    "### O Pandas também oferece muitas funções para manipular dados, incluindo:\n",
    "\n",
    "#### drop(): remove linhas ou colunas do DataFrame;\n",
    "#### fillna(): preenche valores ausentes (NaN) com um valor específico;\n",
    "#### replace(): substitui valores em todo o DataFrame;\n",
    "#### drop_duplicates(): remove linhas duplicadas do DataFrame;\n",
    "#### merge(): combina dois DataFrames com base em uma ou mais colunas."
   ]
  },
  {
   "cell_type": "code",
   "execution_count": null,
   "id": "ce6c4a7c",
   "metadata": {},
   "outputs": [],
   "source": [
    "# Removendo linhas ou colunas do DataFrame\n",
    "df_drop = df.drop(columns=['coluna1', 'coluna2'])\n",
    "df_drop_row = df.drop(index=[0, 1, 2])\n",
    "\n",
    "# Preenchendo valores ausentes (NaN) com um valor específico\n",
    "df_fillna = df.fillna(0)\n",
    "\n",
    "# Substituindo valores em todo o DataFrame\n",
    "df_replace = df.replace({'coluna1': {'valor1': 'novo_valor1', 'valor2': 'novo_valor2'}})\n",
    "\n",
    "# Removendo linhas duplicadas do DataFrame\n",
    "df_drop_duplicates = df.drop_duplicates()\n",
    "\n",
    "# Combinando dois DataFrames com base em uma ou mais colunas\n",
    "df_merged = pd.merge(df1, df2, on='coluna1')\n"
   ]
  },
  {
   "cell_type": "markdown",
   "id": "f9312000",
   "metadata": {},
   "source": [
    "### Análise de dados"
   ]
  },
  {
   "cell_type": "markdown",
   "id": "39a20e61",
   "metadata": {},
   "source": [
    "### O Pandas oferece muitas funções para análise de dados, incluindo:\n",
    "\n",
    "#### sum(): calcula a soma das colunas numéricas do DataFrame;\n",
    "#### mean(): calcula a média das colunas numéricas do DataFrame;\n",
    "#### median(): calcula a mediana das colunas numéricas do DataFrame;\n",
    "#### min(): retorna o valor mínimo de cada coluna numérica do DataFrame;\n",
    "#### max(): retorna o valor máximo de cada coluna numérica do DataFrame;\n",
    "#### std(): calcula o desvio padrão das colunas numéricas do DataFrame;\n",
    "#### corr(): calcula a correlação entre as colunas numéricas do DataFrame.\n",
    "### Essas funções podem ser usadas em conjunto com outras funções do Pandas para realizar análises mais avançadas, como análise de séries temporais, análise de texto, análise de dados geoespaciais, entre outros.\n",
    "\n",
    "### Além disso, o Pandas oferece muitas outras funções e recursos avançados, como suporte a dados hierárquicos, suporte a dados em tempo real, suporte a dados esparsos"
   ]
  },
  {
   "cell_type": "code",
   "execution_count": null,
   "id": "8f27e114",
   "metadata": {},
   "outputs": [],
   "source": [
    "# Calculando a soma das colunas numéricas do DataFrame\n",
    "print(df.sum())\n",
    "\n",
    "# Calculando a média das colunas numéricas do DataFrame\n",
    "print(df.mean())\n",
    "\n",
    "# Calculando a mediana das colunas numéricas do DataFrame\n",
    "print(df.median())\n",
    "\n",
    "# Retornando o valor mínimo de cada coluna numérica do DataFrame\n",
    "print(df.min())\n",
    "\n",
    "# Retornando o valor máximo de cada coluna numérica do DataFrame\n",
    "print(df.max())\n",
    "\n",
    "# Calculando o desvio padrão das colunas numéricas do DataFrame\n",
    "print(df.std())\n",
    "\n",
    "# Calculando a correlação entre as colunas numéricas do DataFrame\n",
    "print(df.corr())\n"
   ]
  }
 ],
 "metadata": {
  "kernelspec": {
   "display_name": "Python 3 (ipykernel)",
   "language": "python",
   "name": "python3"
  },
  "language_info": {
   "codemirror_mode": {
    "name": "ipython",
    "version": 3
   },
   "file_extension": ".py",
   "mimetype": "text/x-python",
   "name": "python",
   "nbconvert_exporter": "python",
   "pygments_lexer": "ipython3",
   "version": "3.9.13"
  }
 },
 "nbformat": 4,
 "nbformat_minor": 5
}
