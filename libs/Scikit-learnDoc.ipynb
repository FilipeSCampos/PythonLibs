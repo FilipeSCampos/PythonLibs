{
 "cells": [
  {
   "cell_type": "markdown",
   "id": "fc7784e5",
   "metadata": {},
   "source": [
    "## A biblioteca Scikit-learn é uma biblioteca de aprendizado de máquina em Python que oferece diversas ferramentas para análise de dados e mineração de dados. Ela é uma das bibliotecas mais populares para aprendizado de máquina em Python, e é usada por cientistas de dados e engenheiros de aprendizado de máquina em todo o mundo.\n",
    "\n",
    "### Principais recursos:\n",
    "\n",
    "#### Algoritmos de Aprendizado de Máquina: Scikit-learn oferece uma ampla variedade de algoritmos de aprendizado de máquina, como regressão linear, regressão logística, SVM, árvores de decisão, entre outros. Cada algoritmo tem sua própria função específica, permitindo que você escolha o melhor algoritmo para o seu projeto.\n",
    "\n",
    "#### Ferramentas de pré-processamento de dados: Scikit-learn tem diversas ferramentas para pré-processamento de dados, como normalização, padronização e seleção de características. Estas ferramentas são usadas para preparar os dados antes de aplicar um modelo de aprendizado de máquina.\n",
    "\n",
    "#### Visualização: Scikit-learn também oferece ferramentas para visualização de dados e resultados. Isso inclui ferramentas para plotar gráficos de distribuição, gráficos de dispersão e matrizes de confusão.\n",
    "\n",
    "#### Métricas: Scikit-learn tem diversas métricas que podem ser usadas para avaliar a performance de um modelo de aprendizado de máquina. Por exemplo, a precisão, o recall, a f1-score, e a área sob a curva ROC são métricas comuns que podem ser usadas para avaliar um modelo.\n",
    "\n",
    "#### Cross-validation: Scikit-learn tem ferramentas para fazer cross-validation, que é uma técnica importante para avaliar a performance de um modelo em dados não-vistos. Cross-validation divide os dados em conjuntos de treinamento e teste e avalia o modelo em diferentes conjuntos de teste para evitar overfitting.\n",
    "\n",
    "#### Pipeline: Scikit-learn tem uma ferramenta chamada pipeline que permite encadear vários passos de pré-processamento e modelagem em uma única etapa. Isso permite automatizar o processo de pré-processamento e modelagem.\n",
    "\n",
    "#### Acesso a dados: Scikit-learn tem alguns conjuntos de dados pré-carregados que podem ser usados para testar e experimentar diferentes modelos de aprendizado de máquina. Ele também tem ferramentas para carregar dados a partir de arquivos CSV, Excel, SQL e outros formatos.\n",
    "\n",
    "#### Para usar a biblioteca Scikit-learn em seu projeto, é necessário instalá-la primeiro. Isso pode ser feito com o comando:"
   ]
  },
  {
   "cell_type": "code",
   "execution_count": null,
   "id": "e8c449e9",
   "metadata": {},
   "outputs": [],
   "source": [
    "pip install scikit-learn"
   ]
  },
  {
   "cell_type": "markdown",
   "id": "7f17d98e",
   "metadata": {},
   "source": [
    "#### Depois de instalado, é possível importar as diferentes ferramentas e funções para o seu projeto. "
   ]
  },
  {
   "cell_type": "markdown",
   "id": "dd4d7e93",
   "metadata": {},
   "source": [
    "### Aqui estão alguns exemplos simples de como usar Scikit-learn:"
   ]
  },
  {
   "cell_type": "markdown",
   "id": "a2fc686b",
   "metadata": {},
   "source": [
    "### 1. Regressão Linear:"
   ]
  },
  {
   "cell_type": "code",
   "execution_count": 1,
   "id": "f09b5511",
   "metadata": {},
   "outputs": [],
   "source": [
    "from sklearn.linear_model import LinearRegression\n",
    "import numpy as np\n",
    "\n",
    "# Criando dados de exemplo\n",
    "X = np.array([[1, 1], [1, 2], [2, 2], [2, 3]])\n",
    "y = np.dot(X, np.array([1, 2])) + 3\n",
    "\n",
    "# Criando o objeto do modelo de regressão linear\n",
    "model = LinearRegression()\n",
    "\n",
    "# Treinando o modelo com os dados de exemplo\n",
    "model.fit(X, y)\n",
    "\n",
    "# Prevendo um novo conjunto de dados\n",
    "X_new = np.array([[3, 5]])\n",
    "y_new = model.predict(X_new)\n"
   ]
  },
  {
   "cell_type": "markdown",
   "id": "312a7c72",
   "metadata": {},
   "source": [
    "### 2.Classificação com Árvore de Decisão:"
   ]
  },
  {
   "cell_type": "code",
   "execution_count": 2,
   "id": "c8460269",
   "metadata": {},
   "outputs": [],
   "source": [
    "from sklearn.datasets import load_iris\n",
    "from sklearn.tree import DecisionTreeClassifier\n",
    "from sklearn.model_selection import train_test_split\n",
    "\n",
    "# Carregando o conjunto de dados Iris\n",
    "iris = load_iris()\n",
    "X_train, X_test, y_train, y_test = train_test_split(iris.data, iris.target, random_state=0)\n",
    "\n",
    "# Criando o objeto do modelo de Árvore de Decisão\n",
    "clf = DecisionTreeClassifier()\n",
    "\n",
    "# Treinando o modelo com os dados de treinamento\n",
    "clf.fit(X_train, y_train)\n",
    "\n",
    "# Avaliando o modelo com os dados de teste\n",
    "score = clf.score(X_test, y_test)\n"
   ]
  },
  {
   "cell_type": "markdown",
   "id": "eef50347",
   "metadata": {},
   "source": [
    "### Clustering com K-means:"
   ]
  },
  {
   "cell_type": "code",
   "execution_count": 3,
   "id": "f51f035f",
   "metadata": {},
   "outputs": [],
   "source": [
    "from sklearn.cluster import KMeans\n",
    "from sklearn.datasets import make_blobs\n",
    "\n",
    "# Criando dados de exemplo\n",
    "X, y = make_blobs(n_samples=1000, centers=4, random_state=42)\n",
    "\n",
    "# Criando o objeto do modelo de K-means\n",
    "kmeans = KMeans(n_clusters=4, random_state=42)\n",
    "\n",
    "# Treinando o modelo com os dados de exemplo\n",
    "kmeans.fit(X)\n",
    "\n",
    "# Prevendo as classes dos dados de exemplo\n",
    "y_pred = kmeans.predict(X)\n"
   ]
  },
  {
   "cell_type": "markdown",
   "id": "74f355c5",
   "metadata": {},
   "source": [
    "## Conclusão\n",
    "\n",
    "### Scikit-learn é uma biblioteca popular e poderosa para análise de dados e aprendizado de máquina em Python. Ela oferece uma ampla variedade de algoritmos de aprendizado de máquina, ferramentas de pré-processamento de dados, métricas de avaliação, cross-validation, visualização e muito mais. Com Scikit-learn, é possível automatizar muitas das etapas do processo de aprendizado de máquina e experimentar diferentes algoritmos e técnicas para obter os melhores resultados.\n",
    "\n",
    "#### Os exemplos de código acima demonstram algumas das funcionalidades básicas da biblioteca, mas Scikit-learn é capaz de lidar com tarefas muito mais complexas e de grande escala. Se você está trabalhando em projetos de aprendizado de máquina em Python, Scikit-learn é uma biblioteca que vale a pena explorar e aprender."
   ]
  }
 ],
 "metadata": {
  "kernelspec": {
   "display_name": "Python 3 (ipykernel)",
   "language": "python",
   "name": "python3"
  },
  "language_info": {
   "codemirror_mode": {
    "name": "ipython",
    "version": 3
   },
   "file_extension": ".py",
   "mimetype": "text/x-python",
   "name": "python",
   "nbconvert_exporter": "python",
   "pygments_lexer": "ipython3",
   "version": "3.9.13"
  }
 },
 "nbformat": 4,
 "nbformat_minor": 5
}
